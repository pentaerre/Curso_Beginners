{
  "nbformat": 4,
  "nbformat_minor": 0,
  "metadata": {
    "colab": {
      "name": "SOLUCION_EJERCICIO_FINAL.ipynb",
      "provenance": [],
      "authorship_tag": "ABX9TyOEsQt04QsBZhJO7taEM0LZ",
      "include_colab_link": true
    },
    "kernelspec": {
      "name": "python3",
      "display_name": "Python 3"
    }
  },
  "cells": [
    {
      "cell_type": "markdown",
      "metadata": {
        "id": "view-in-github",
        "colab_type": "text"
      },
      "source": [
        "<a href=\"https://colab.research.google.com/github/pentaerre/Curso_Beginners/blob/main/SOLUCION_EJERCICIO_FINAL.ipynb\" target=\"_parent\"><img src=\"https://colab.research.google.com/assets/colab-badge.svg\" alt=\"Open In Colab\"/></a>"
      ]
    },
    {
      "cell_type": "code",
      "metadata": {
        "colab": {
          "base_uri": "https://localhost:8080/"
        },
        "id": "_sZD_cwlobiw",
        "outputId": "1ed603c0-039e-4628-e595-54bd0c8194dd"
      },
      "source": [
        "# primero metemos todas las bolas en una lista\r\n",
        "\r\n",
        "lb = [1, 2, 3, 4, 5, 6, 7, 8, 9, 10, 11, 12, 13, 14]\r\n",
        "\r\n",
        "# creamos una lista vacia llamada sol, la cual vamos a meter combinaciones de tres bolas que vayamos buscando\r\n",
        "\r\n",
        "sol = []\r\n",
        "\r\n",
        "# Ahora hay que hacer tres iteracciones en la misma lista para ir encontrando bolas para añadir\r\n",
        "# vamos a hacerlo por fuerza bruta un metodo muy conocido en programacion\r\n",
        "# basicamente creamos todas las combinaciones posibles y luego ya vamos quedandonos con las que nos interese\r\n",
        "# en este caso que sean diferentes y que sumen 28\r\n",
        "\r\n",
        "for i in range(len(lb)):\r\n",
        "    for j in range (len(lb)):\r\n",
        "        if lb[i] != lb[j]:\r\n",
        "            for l in range (len(lb)):\r\n",
        "                if (lb[i] != lb[j] and lb[i] != lb[l] and lb[j] != lb[l]) and lb[i]+lb[j]+lb[l]==28:\r\n",
        "                    sol.append([lb[i], lb[j], lb[l]])\r\n",
        "                    \r\n",
        "#ahora para presentar la solución simplemente:\r\n",
        "\r\n",
        "print(\"Hay \" + str(len(sol))+\" combinaciones las cuales son: \")\r\n",
        "print (sol)"
      ],
      "execution_count": null,
      "outputs": [
        {
          "output_type": "stream",
          "text": [
            "Hay 96 combinaciones las cuales son: \n",
            "[[1, 13, 14], [1, 14, 13], [2, 12, 14], [2, 14, 12], [3, 11, 14], [3, 12, 13], [3, 13, 12], [3, 14, 11], [4, 10, 14], [4, 11, 13], [4, 13, 11], [4, 14, 10], [5, 9, 14], [5, 10, 13], [5, 11, 12], [5, 12, 11], [5, 13, 10], [5, 14, 9], [6, 8, 14], [6, 9, 13], [6, 10, 12], [6, 12, 10], [6, 13, 9], [6, 14, 8], [7, 8, 13], [7, 9, 12], [7, 10, 11], [7, 11, 10], [7, 12, 9], [7, 13, 8], [8, 6, 14], [8, 7, 13], [8, 9, 11], [8, 11, 9], [8, 13, 7], [8, 14, 6], [9, 5, 14], [9, 6, 13], [9, 7, 12], [9, 8, 11], [9, 11, 8], [9, 12, 7], [9, 13, 6], [9, 14, 5], [10, 4, 14], [10, 5, 13], [10, 6, 12], [10, 7, 11], [10, 11, 7], [10, 12, 6], [10, 13, 5], [10, 14, 4], [11, 3, 14], [11, 4, 13], [11, 5, 12], [11, 7, 10], [11, 8, 9], [11, 9, 8], [11, 10, 7], [11, 12, 5], [11, 13, 4], [11, 14, 3], [12, 2, 14], [12, 3, 13], [12, 5, 11], [12, 6, 10], [12, 7, 9], [12, 9, 7], [12, 10, 6], [12, 11, 5], [12, 13, 3], [12, 14, 2], [13, 1, 14], [13, 3, 12], [13, 4, 11], [13, 5, 10], [13, 6, 9], [13, 7, 8], [13, 8, 7], [13, 9, 6], [13, 10, 5], [13, 11, 4], [13, 12, 3], [13, 14, 1], [14, 1, 13], [14, 2, 12], [14, 3, 11], [14, 4, 10], [14, 5, 9], [14, 6, 8], [14, 8, 6], [14, 9, 5], [14, 10, 4], [14, 11, 3], [14, 12, 2], [14, 13, 1]]\n"
          ],
          "name": "stdout"
        }
      ]
    }
  ]
}