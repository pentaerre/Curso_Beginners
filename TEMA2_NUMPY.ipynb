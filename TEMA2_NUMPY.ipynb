{
  "nbformat": 4,
  "nbformat_minor": 0,
  "metadata": {
    "kernelspec": {
      "display_name": "Python 3",
      "language": "python",
      "name": "python3"
    },
    "language_info": {
      "codemirror_mode": {
        "name": "ipython",
        "version": 3
      },
      "file_extension": ".py",
      "mimetype": "text/x-python",
      "name": "python",
      "nbconvert_exporter": "python",
      "pygments_lexer": "ipython3",
      "version": "3.7.3"
    },
    "colab": {
      "name": "TEMA2_NUMPY.ipynb",
      "provenance": [],
      "toc_visible": true
    }
  },
  "cells": [
    {
      "cell_type": "markdown",
      "metadata": {
        "id": "a3D5IYOHJeew"
      },
      "source": [
        "#2.2 Librerias de Numpy e Scipy\r\n",
        "\r\n",
        "\r\n",
        "*   2.2.1 Introducción a numpy e Scipy\r\n",
        "*   2.2.2 Indexado con booleanos\r\n",
        "* 2.2.3 Operaciones matematicas con numpy\r\n",
        "* 2.2.4 Diferencias entre Arrays y listas\r\n",
        "* 2.2.5 Ejemplo Scipy\r\n"
      ]
    },
    {
      "cell_type": "markdown",
      "metadata": {
        "id": "G5oMBTlKJVlf"
      },
      "source": [
        "##2.2.1 Introducción a Numpy e Scipy\n",
        "\n",
        "Numpy es una librería de python muy utilizada para computación científica con python. En general para los que hayan trabajado con matlab tiene un comportamiento parecido a como matlab trata los arrays. Además, se dará un pequeño ejemplo de scipy la cual usando numpy como base aplica una gran variedad de algoritmos matemáticos.\n"
      ]
    },
    {
      "cell_type": "code",
      "metadata": {
        "scrolled": true,
        "id": "VzFhySYsJVlm",
        "outputId": "b8921381-07cb-4025-854a-286a4e1bde0e"
      },
      "source": [
        "#importamos numpy\n",
        "import numpy as np\n",
        "\n",
        "# creamos un vector (1,2,3) que para numpy es un array (1,3)\n",
        "a = np.array([1, 2, 3])\n",
        "# Shape es un comando muy interesante que permite ver las dimensiones de las arrays\n",
        "print(a.shape)\n",
        "# para cambiar un valor del array solamente hay que acceder al indice correspondiente\n",
        "a[0] = 5 \n",
        "print(a)\n",
        "\n",
        "# Ahora vamos a ver como tratar matrices en vez de vectores\n",
        "\n",
        "a = np.array([[1,2,3,4], [5,6,7,8], [9,10,11,12]])\n",
        "\n",
        "# vamos a ver que dimensiones tiene esta matriz\n",
        "print (a.shape)\n",
        "\n",
        "# Ahora vamos a mostrar como acceder filas y columnas del array\n",
        "row_r1 = a[1, :]\n",
        "print(row_r1, row_r1.shape)\n",
        "col_r1 = a[:, 1]\n",
        "print(col_r1, col_r1.shape)"
      ],
      "execution_count": null,
      "outputs": [
        {
          "output_type": "stream",
          "text": [
            "(3,)\n",
            "[5 2 3]\n",
            "(3, 4)\n",
            "[5 6 7 8] (4,)\n",
            "[ 2  6 10] (3,)\n"
          ],
          "name": "stdout"
        }
      ]
    },
    {
      "cell_type": "markdown",
      "metadata": {
        "id": "mjsSv0vyJVlo"
      },
      "source": [
        "## 2.2.2 Indexado con booleanos:\n",
        "\n",
        "Un tema muy interesante y que se expandirá en el capítulo siguiente es el indexado. Aunque sea muy interesante no vamos a entrar mucho en esto ya que PANDAS (otra librería de python) también lo usa y es más sencillo. Aun así vamos a mostrar un ejemplo de boolean indexing ya que es muy visual y muestra la potencia real de python.\n",
        "    "
      ]
    },
    {
      "cell_type": "code",
      "metadata": {
        "id": "L1QrEbCJJVlp",
        "outputId": "f3448dce-f98c-400f-ddac-ff2e8c0a112f"
      },
      "source": [
        "# Creamos una matriz ejemplo\n",
        "a = np.array([[1,2], [3, 4], [5, 6]])\n",
        "bool_idx = (a > 2)\n",
        "print(bool_idx)  \n",
        "# Imprimir \"[[False False]\n",
        "#          [ True  True]\n",
        "#          [ True  True]]\"\n",
        "\n",
        "# recibimos una matriz con todos los elementos los cuales sean mayores que 2\n",
        "# ademas si se introduce esta matriz como indice en la matriz a, solo nos va a mostrar los elementos que tienen \"True\"\n",
        "print(a[bool_idx])\n",
        "# podemos hacerlo todo en un paso de la siguiente forma (sin tener que crear bool_idx intermedia)\n",
        "print(a[a > 2])"
      ],
      "execution_count": null,
      "outputs": [
        {
          "output_type": "stream",
          "text": [
            "[[False False]\n",
            " [ True  True]\n",
            " [ True  True]]\n",
            "[3 4 5 6]\n",
            "[3 4 5 6]\n"
          ],
          "name": "stdout"
        }
      ]
    },
    {
      "cell_type": "markdown",
      "metadata": {
        "id": "0rqV0JIWJVlq"
      },
      "source": [
        "En general las mejoras que ofrece este tipo de indexado a nuestros codigos es la siguiente: \n",
        "1. Código mas visual\n",
        "2. Uso reducido de FOR e IF\n",
        "3. Menor fuente de bugs\n",
        "4. Mas rapido en ejecución"
      ]
    },
    {
      "cell_type": "markdown",
      "metadata": {
        "id": "PO7q_m3gJVlq"
      },
      "source": [
        "##2.2.3 Operaciones matematicas con numpy:\n",
        "\n",
        "Ahora vamos a ver algunas de las posibles operaciones matemáticas que incorpora numpy. Como es de esperar incluye todo tipo de operaciones algebraicas; sumas restas, transposiciones etc."
      ]
    },
    {
      "cell_type": "code",
      "metadata": {
        "id": "hwUWeEVVJVlq",
        "outputId": "fde458a8-ec34-4c6a-8039-e4da0ee27036"
      },
      "source": [
        "x = np.array([[1,2],[3,4]], dtype=np.float64)\n",
        "y = np.array([[5,6],[7,8]], dtype=np.float64)\n",
        "print(x + y)\n",
        "print(np.add(x, y))\n",
        "print(x - y)\n",
        "print(np.subtract(x, y))\n",
        "print(x * y)\n",
        "print(np.multiply(x, y))\n",
        "\n",
        "# es importante chequear en la documentación los distintos metodos y sus opciones. Vamos a ver un ejemplo:\n",
        "\n",
        "x = np.array([[1,2],[3,4]])\n",
        "print(np.sum(x)) \n",
        "print(np.sum(x, axis=0))\n",
        "print(np.sum(x, axis=1))\n",
        "\n",
        "# las tres \"sumas\" dan resultados diferentes. Una es suma de todos los elementos\n",
        "# otra es suma de cada columna y la ultima es suma de cada fila"
      ],
      "execution_count": null,
      "outputs": [
        {
          "output_type": "stream",
          "text": [
            "[[ 6.  8.]\n",
            " [10. 12.]]\n",
            "[[ 6.  8.]\n",
            " [10. 12.]]\n",
            "[[-4. -4.]\n",
            " [-4. -4.]]\n",
            "[[-4. -4.]\n",
            " [-4. -4.]]\n",
            "[[ 5. 12.]\n",
            " [21. 32.]]\n",
            "[[ 5. 12.]\n",
            " [21. 32.]]\n",
            "10\n",
            "[4 6]\n",
            "[3 7]\n"
          ],
          "name": "stdout"
        }
      ]
    },
    {
      "cell_type": "markdown",
      "metadata": {
        "id": "qTUIKkN5JVlr"
      },
      "source": [
        "##2.2.4 Diferencias entre Arrays y listas\n",
        "\n",
        "¿Qué diferencia hay entre las listas y las arrays de numpy? En general esta pregunta es de alto nivel, pero vamos a intentar simplificarla lo máximo posible:\n",
        "    \n",
        "    1. Las listas permiten aglutinar elementos con distintos tipos de datos\n",
        "    2. Las arrays tienen que tener tipos de datos homogeneos\n",
        "    3. Las arrays de numpy ocupan menos espacio en memoria que las listas\n",
        "    4. Debido a como se asigna memoria en listas en arrays, las arrays son mas rapidas y permiten la vectorización de operaciones\n",
        "    5. El array de numpy tiene herramientas especificas para calculo matricial\n",
        "  \n",
        "\n",
        "Después de esto y como norma general la conclusión es que vamos a querer utilizar arrays de numpy para alto volumen de datos y operaciones matemáticas. Si tienes interés y quieres ver más en detalle estas diferencias aquí se explica:\n",
        "\n",
        "https://webcourses.ucf.edu/courses/1249560/pages/python-lists-vs-numpy-arrays-what-is-the-difference "
      ]
    },
    {
      "cell_type": "markdown",
      "metadata": {
        "id": "pZ4WHUuMJVlr"
      },
      "source": [
        "## 2.2.5 Introducción a Scipy:\n",
        "\n",
        "Después de ver numpy quizás te hayas quedado un poco frio, realmente numpy es una herramienta base para muchas librerías de python que se basan en algoritmos matemáticos aplicados. Así pues, una de ellas muy utilizada en ambientes ingenieriles es Scipy. No se puede enseñar específicamente Scipy ya que más bien es una caja de herramientas algorítmicas que tienen distintos métodos con distintos argumentos y muy variados usos así pues la mejor forma de verlo es con un ejemplo.\n",
        "\n",
        "Vamos a calcular la distancia euclidea entre sets de puntos que almacenaremos en la variable \"x\":\n"
      ]
    },
    {
      "cell_type": "code",
      "metadata": {
        "id": "dMMKhmMhJVls",
        "outputId": "e0a395f1-cfff-44d9-f188-75f624d1fe11"
      },
      "source": [
        "# Importamos los modulos relacionados los cuales se puede consultar en la documentacion\n",
        "# https://docs.scipy.org/doc/scipy/reference/generated/scipy.spatial.distance.cdist.html \n",
        "\n",
        "from scipy.spatial.distance import pdist, squareform\n",
        "# puntos elegidos\n",
        "x = np.array([[0, 1], [1, 0], [2, 0]])\n",
        "print(x)\n",
        "# d entonces va a ser las distancias euclideas entre estos puntos\n",
        "d = squareform(pdist(x, 'euclidean'))\n",
        "print(d)"
      ],
      "execution_count": null,
      "outputs": [
        {
          "output_type": "stream",
          "text": [
            "[[0 1]\n",
            " [1 0]\n",
            " [2 0]]\n",
            "[[0.         1.41421356 2.23606798]\n",
            " [1.41421356 0.         1.        ]\n",
            " [2.23606798 1.         0.        ]]\n"
          ],
          "name": "stdout"
        }
      ]
    },
    {
      "cell_type": "markdown",
      "metadata": {
        "id": "aoNpGIq5JVls"
      },
      "source": [
        "Más que entrar en detalle cómo funciona este método lo que se quiere mostrar es que existe Scipy cuenta con muchas herramientas muy utilizadas en ingeniería como : regresión multivariable, cambio de ejes de coordenadas, optimización de funciones, calculo simbólico, resolución de ecuaciones, interpolaciones, transformadas de fourier y un largo etcetera.\n",
        "\n",
        "Así pues y como recordatorio Scipy no es algo que se \"aprende\" es algo que hay que saber que existe, se consulta y si puede ayudarte en alguna tarea es cuando se aprende a utilizar el paquete en concreto.\n"
      ]
    },
    {
      "cell_type": "markdown",
      "metadata": {
        "id": "qIdwa6SsLXpR"
      },
      "source": [
        "## EJERCICIOS PARA PONER EN EDUALTRAN\r\n",
        "\r\n",
        "https://www.w3resource.com/python-exercises/numpy/index.php\r\n",
        "\r\n",
        "https://github.com/rougier/numpy-100 "
      ]
    }
  ]
}