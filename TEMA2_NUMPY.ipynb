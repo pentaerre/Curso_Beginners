{
 "cells": [
  {
   "cell_type": "markdown",
   "metadata": {},
   "source": [
    "# Introducción a Numpy y Scipy\n",
    "\n",
    "Numpy es una libreria de python muy utilizada para computacion cientifica con python. En general para los que hayan trabajado con matlab tiene un comportamiento parecido a como matlab trata los arrays. Además se dará un pequeño ejemplo de scipy la cual usando numpy como vase aplica una gran variedad de algoritmos matematicos. \n"
   ]
  },
  {
   "cell_type": "code",
   "execution_count": 2,
   "metadata": {
    "scrolled": true
   },
   "outputs": [
    {
     "name": "stdout",
     "output_type": "stream",
     "text": [
      "(3,)\n",
      "[5 2 3]\n",
      "(3, 4)\n",
      "[5 6 7 8] (4,)\n",
      "[ 2  6 10] (3,)\n"
     ]
    }
   ],
   "source": [
    "#importamos numpy\n",
    "import numpy as np\n",
    "\n",
    "# creamos un vector (1,2,3) que para numpy es un array (1,3)\n",
    "a = np.array([1, 2, 3])\n",
    "# Shape es un comando muy interesante que permite ver las dimensiones de las arrays\n",
    "print(a.shape)\n",
    "# para cambiar un valor del array solamente hay que acceder al indice correspondiente\n",
    "a[0] = 5 \n",
    "print(a)\n",
    "\n",
    "# Ahora vamos a ver como tratar matrices en vez de vectores\n",
    "\n",
    "a = np.array([[1,2,3,4], [5,6,7,8], [9,10,11,12]])\n",
    "\n",
    "# vamos a ver que dimensiones tiene esta matriz\n",
    "print (a.shape)\n",
    "\n",
    "# Ahora vamos a mostrar como acceder filas y columnas del array\n",
    "row_r1 = a[1, :]\n",
    "print(row_r1, row_r1.shape)\n",
    "col_r1 = a[:, 1]\n",
    "print(col_r1, col_r1.shape)"
   ]
  },
  {
   "cell_type": "markdown",
   "metadata": {},
   "source": [
    "## Indexado con booleanos:\n",
    "\n",
    "Un tema muy interesante y que se expandirá en el capitulo siguiente es el indexado. Aunque sea muy interesante no vamos a entrar mucho en esto ya que PANDAS (otra librería de python) tambien lo usa y es más sencillo, pero vamos a ver como hacer boolean indexing ya que es muy visual y muestra la potencia real de python que vamos a ver mas adelante. \n",
    "    "
   ]
  },
  {
   "cell_type": "code",
   "execution_count": 3,
   "metadata": {},
   "outputs": [
    {
     "name": "stdout",
     "output_type": "stream",
     "text": [
      "[[False False]\n",
      " [ True  True]\n",
      " [ True  True]]\n",
      "[3 4 5 6]\n",
      "[3 4 5 6]\n"
     ]
    }
   ],
   "source": [
    "# Creamos una matriz ejemplo\n",
    "a = np.array([[1,2], [3, 4], [5, 6]])\n",
    "bool_idx = (a > 2)\n",
    "print(bool_idx)  \n",
    "# Imprimir \"[[False False]\n",
    "#          [ True  True]\n",
    "#          [ True  True]]\"\n",
    "\n",
    "# recibimos una matriz con todos los elementos los cuales sean mayores que 2\n",
    "# ademas si se introduce esta matriz como indice en la matriz a, solo nos va a mostrar los elementos que tienen \"True\"\n",
    "print(a[bool_idx])\n",
    "# podemos hacerlo todo en un paso de la siguiente forma (sin tener que crear bool_idx intermedia)\n",
    "print(a[a > 2])"
   ]
  },
  {
   "cell_type": "markdown",
   "metadata": {},
   "source": [
    "En general las mejoras que ofrece este tipo de indexado a nuestros codigos es la siguiente:\n",
    "    1. Código mas visual \n",
    "    2. Uso reducido de FOR e IF\n",
    "    3. Menor fuente de bugs\n",
    "    4. Mas rapido en ejecución"
   ]
  },
  {
   "cell_type": "markdown",
   "metadata": {},
   "source": [
    "## Operaciones matematicas con numpy:\n",
    "\n",
    "Ahora vamos a ver algunas de las posibles operaciones matematicas que incorpora numpy. Como es de esperar incluye sumas restas, transposiciones etc."
   ]
  },
  {
   "cell_type": "code",
   "execution_count": 4,
   "metadata": {},
   "outputs": [
    {
     "name": "stdout",
     "output_type": "stream",
     "text": [
      "[[ 6.  8.]\n",
      " [10. 12.]]\n",
      "[[ 6.  8.]\n",
      " [10. 12.]]\n",
      "[[-4. -4.]\n",
      " [-4. -4.]]\n",
      "[[-4. -4.]\n",
      " [-4. -4.]]\n",
      "[[ 5. 12.]\n",
      " [21. 32.]]\n",
      "[[ 5. 12.]\n",
      " [21. 32.]]\n",
      "10\n",
      "[4 6]\n",
      "[3 7]\n"
     ]
    }
   ],
   "source": [
    "x = np.array([[1,2],[3,4]], dtype=np.float64)\n",
    "y = np.array([[5,6],[7,8]], dtype=np.float64)\n",
    "print(x + y)\n",
    "print(np.add(x, y))\n",
    "print(x - y)\n",
    "print(np.subtract(x, y))\n",
    "print(x * y)\n",
    "print(np.multiply(x, y))\n",
    "\n",
    "# es importante chequear en la documentación los distintos metodos y sus opciones. Vamos a ver un ejemplo:\n",
    "\n",
    "x = np.array([[1,2],[3,4]])\n",
    "print(np.sum(x)) \n",
    "print(np.sum(x, axis=0))\n",
    "print(np.sum(x, axis=1))\n",
    "\n",
    "# las tres \"sumas\" dan resultados diferentes. Una es suma de todos los elementos\n",
    "# otra es suma de cada columna y la ultima es suma de cada fila"
   ]
  },
  {
   "cell_type": "markdown",
   "metadata": {},
   "source": [
    "¿Que diferencia hay entre las listas y las arrays de numpy?\n",
    "En general esta pregunta es de alto nivel pero vamos a intentar simplificarla lo maximo posible:\n",
    "    \n",
    "    1. Las listas permiten aglutinar elementos con distintos tipos de datos\n",
    "    2. Las las arrays tienen que tener tipos de datos homogeneos\n",
    "    3. Las arrays de numpy ocupan menos espacio en memoria que las listas\n",
    "    4. Debido a como se asigna memoria en listas en arrays, las arrays son mas rapidas y permiten la vectorización de operaciones\n",
    "    5. El array de numpy tiene herramientas especificas para calculo matricial\n",
    "  \n",
    "\n",
    "Despues de esto y como norma general la conclusión es que vamos a querer utizar arrays de numpy para alto volumen de datos y operaciones matematicas. Si tienes interés y quieres ver más en detalle estas diferencias aquí se explica:\n",
    "\n",
    "https://webcourses.ucf.edu/courses/1249560/pages/python-lists-vs-numpy-arrays-what-is-the-difference "
   ]
  },
  {
   "cell_type": "markdown",
   "metadata": {},
   "source": [
    "## Introducción a Scipy:\n",
    "\n",
    "Despues de ver numpy quizas te hayas quedado un poco frio, realmente numpy es una herramienta base para muchas librerías de python que se basan en algoritmos matematicos aplicados. Así pues una de ellas muy utilizada en ambientes ingenieriles es Scipy. No se puede enseñar especificamente Scipy ya que más bien es una caja de herramientras algoritmicas que tienen distintos metodos con distintos argumentos y muy variados usos así pues la mejor forma de verlo es con un ejemplo. \n",
    "\n",
    "Vamos a claucular la distancia euclidea entre sets de puntos que almacenaremos en la variable \"x\":"
   ]
  },
  {
   "cell_type": "code",
   "execution_count": 5,
   "metadata": {},
   "outputs": [
    {
     "name": "stdout",
     "output_type": "stream",
     "text": [
      "[[0 1]\n",
      " [1 0]\n",
      " [2 0]]\n",
      "[[0.         1.41421356 2.23606798]\n",
      " [1.41421356 0.         1.        ]\n",
      " [2.23606798 1.         0.        ]]\n"
     ]
    }
   ],
   "source": [
    "# Importamos los modulos relacionados los cuales se puede consultar en la documentacion\n",
    "# https://docs.scipy.org/doc/scipy/reference/generated/scipy.spatial.distance.cdist.html \n",
    "\n",
    "from scipy.spatial.distance import pdist, squareform\n",
    "# puntos elegidos\n",
    "x = np.array([[0, 1], [1, 0], [2, 0]])\n",
    "print(x)\n",
    "# d entonces va a ser las distancias euclideas entre estos puntos\n",
    "d = squareform(pdist(x, 'euclidean'))\n",
    "print(d)"
   ]
  },
  {
   "cell_type": "markdown",
   "metadata": {},
   "source": [
    "Más que entrar en detalle como funciona este método lo que se quiere mostrar es que existe Scipy cuenta con muchas herramientas muy utilizadas en ingenieria como : regresion multivariable, cambio de ejes de coordenadas, optimización de funciones, calculo simbolico, resolución de ecuaciones, interpolaciones, transformadas de fourier y un largo etcetera.\n",
    "\n",
    "Así pues y comor recordatorio Scipy no es algo que se \"aprende\" es algo que hay que saber que existe, se consulta y si puede ayudarte en alguna tarea es cuando se aprende a utilizar el paquete en concreto."
   ]
  }
 ],
 "metadata": {
  "kernelspec": {
   "display_name": "Python 3",
   "language": "python",
   "name": "python3"
  },
  "language_info": {
   "codemirror_mode": {
    "name": "ipython",
    "version": 3
   },
   "file_extension": ".py",
   "mimetype": "text/x-python",
   "name": "python",
   "nbconvert_exporter": "python",
   "pygments_lexer": "ipython3",
   "version": "3.7.3"
  }
 },
 "nbformat": 4,
 "nbformat_minor": 2
}
