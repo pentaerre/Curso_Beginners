{
 "cells": [
  {
   "cell_type": "markdown",
   "metadata": {},
   "source": [
    "#  **Índice** "
   ]
  },
  {
   "cell_type": "markdown",
   "metadata": {},
   "source": [
    "* 1 [Introducción](#Introducción)\n",
    "* 2 [Dataset](#Dataset)\n",
    "* 3 [Tipos de gráficas más comunes](#Tipos_de_gráficas_más_comunes)\n",
    "    * 3.1 [Ejemplos de uso](#Ejemplos_de_uso)\n",
    "* 4 [Uso de seaborn](#Uso_de_seaborn)\n",
    "* 5 [Cómo editar una gráfica](#Cómo_editar_una_gráfica)\n",
    "* 6 [Tipos de gráficas más avanzadas](#Tipos_de_gráficas_más_avanzadas)\n",
    "    * 6.1 [Countplot](#Countplot)\n",
    "    * 6.2 [Heatmap](#Heatmap)\n",
    "    * 6.3 [Parámetro Hue en seaborn](#Parámetro_Hue_en_seaborn)"
   ]
  },
  {
   "cell_type": "markdown",
   "metadata": {},
   "source": [
    "#  **Introducción** <a class=\"anchor\" id=\"Introducción\"></a>"
   ]
  },
  {
   "cell_type": "markdown",
   "metadata": {},
   "source": [
    "**Matplotlib** es un módulo que es la base sobre prácticamente el total de los módulos de visualización que están construidos en Python. \n",
    "Tiene como ventajas la capacidad de editar cualquier aspecto de la gráfica pero,debido a ser desarrollado hace bastante tiempo, permite realizar un menor número de gráficas y que sea más difícil construirlas. \n",
    "&nbsp;\n",
    "\n",
    "**Seaborn** es un módulo centrado en la visualización que viene a paliar algunos de los defectos que tiene matplotlib. Visualmente se logran mejores resultados y, además, es má fácil de manejar. Si quieres hacerte una idea de las posibilidades que puede dar seaborn echa un ojo al siguiente enlace: \n",
    "&nbsp;\n",
    "https://seaborn.pydata.org/examples/index.html"
   ]
  },
  {
   "cell_type": "code",
   "execution_count": 1,
   "metadata": {},
   "outputs": [],
   "source": [
    "import matplotlib.pyplot as plt  \n",
    "import seaborn as sns            "
   ]
  },
  {
   "cell_type": "markdown",
   "metadata": {},
   "source": [
    "# **Dataset** <a class=\"anchor\" id=\"Dataset\"></a>"
   ]
  },
  {
   "cell_type": "markdown",
   "metadata": {},
   "source": [
    "Vamos a utilizar el dataset de *diamonds*. Es bastante utilizado para la visualización ya que contiene todo tipo de variables (categóricas, continuas, etc.) En este curso no se va a entrar muy en detalle en todo lo que se puede llegar a desgranar este dataset pero, si quieres ver las posibilidades que hay y aplicar tus conocimientos que vamos a ver en un caso práctico,, intenta responder a la siguiente pregunta:\n",
    "&nbsp;\n",
    "\n",
    "¿Ves en la distribución del precio de los diamantes algo que consideres que no es esperable?\n",
    "&nbsp;\n",
    "\n",
    "*La respuesta a la pregunta te la dejaré al final del código*\n"
   ]
  },
  {
   "cell_type": "code",
   "execution_count": 2,
   "metadata": {},
   "outputs": [],
   "source": [
    "import pandas as pd\n",
    "diamonds = pd.read_csv('diamonds.csv')"
   ]
  },
  {
   "cell_type": "markdown",
   "metadata": {},
   "source": [
    "# **Tipos de gráficas más comunes** <a class=\"anchor\" id=\"Tipos_de_gráficas_más_comunes\"></a>"
   ]
  },
  {
   "cell_type": "markdown",
   "metadata": {},
   "source": [
    "**1. Histograma** -> Permite contar el número de coincidencias de una variable en un determinado rango de valores\n",
    "&nbsp;\n",
    "\n",
    "**2. Scatter Plot** -> Representa mediante puntos los valores del dataset de las dos variables deseadas "
   ]
  },
  {
   "cell_type": "markdown",
   "metadata": {},
   "source": [
    "A continuación vamos a ver en detalle como realizar distintos tipos de gráficas con matplotlib, pero la estructura con la que se realizan las gráficas es siempre la misma, por lo que puedes extrapolar los ejemplos que vamos a ver a lineplots, boxplots, etc. \n",
    "    "
   ]
  },
  {
   "cell_type": "markdown",
   "metadata": {},
   "source": [
    "## **Ejemplos de uso** <a class=\"anchor\" id=\"Ejemplos_de_uso\"></a>"
   ]
  },
  {
   "cell_type": "markdown",
   "metadata": {},
   "source": [
    "1. Histograma"
   ]
  },
  {
   "cell_type": "code",
   "execution_count": 3,
   "metadata": {},
   "outputs": [
    {
     "data": {
      "text/plain": [
       "(array([2.5155e+04, 1.8626e+04, 7.1290e+03, 2.3490e+03, 6.1400e+02,\n",
       "        5.3000e+01, 6.0000e+00, 5.0000e+00, 2.0000e+00, 1.0000e+00]),\n",
       " array([0.2  , 0.681, 1.162, 1.643, 2.124, 2.605, 3.086, 3.567, 4.048,\n",
       "        4.529, 5.01 ]),\n",
       " <a list of 10 Patch objects>)"
      ]
     },
     "execution_count": 3,
     "metadata": {},
     "output_type": "execute_result"
    },
    {
     "data": {
      "image/png": "[encoded data removed]",
      "text/plain": [
       "<Figure size 432x288 with 1 Axes>"
      ]
     },
     "metadata": {
      "needs_background": "light"
     },
     "output_type": "display_data"
    }
   ],
   "source": [
    "plt.hist(x = diamonds['carat'])"
   ]
  },
  {
   "cell_type": "markdown",
   "metadata": {},
   "source": [
    "Este tipo de gráfica da un diagrama de barras donde la anchura fija el intervalo donde se van a buscar las coincidencias del dataset (en este caso, las barras tienen una anchura aproximada de 0.5, por lo que entre hay 25000 diamantes que tienen más de 0.2 quilates y menos de 0.7). \n",
    "&nbsp;\n",
    "\n",
    "Esta anchura se puede editar con el parámetro *bins*, ya que permite aumentar o disminuir el número de barras que se va a mostrar en la figura."
   ]
  },
  {
   "cell_type": "code",
   "execution_count": 4,
   "metadata": {},
   "outputs": [
    {
     "data": {
      "text/plain": [
       "(array([1.5990e+03, 1.1493e+04, 4.5370e+03, 6.3090e+03, 1.2170e+03,\n",
       "        5.6300e+03, 1.2880e+03, 2.6940e+03, 6.5280e+03, 2.4860e+03,\n",
       "        2.4790e+03, 1.0630e+03, 3.2500e+02, 2.4320e+03, 8.3000e+02,\n",
       "        5.7300e+02, 2.2300e+02, 5.8000e+01, 9.0400e+02, 5.9100e+02,\n",
       "        2.6900e+02, 1.4500e+02, 8.4000e+01, 5.7000e+01, 5.9000e+01,\n",
       "        1.5000e+01, 1.0000e+01, 2.0000e+00, 0.0000e+00, 2.6000e+01,\n",
       "        1.0000e+00, 2.0000e+00, 0.0000e+00, 1.0000e+00, 2.0000e+00,\n",
       "        1.0000e+00, 1.0000e+00, 0.0000e+00, 0.0000e+00, 3.0000e+00,\n",
       "        1.0000e+00, 0.0000e+00, 0.0000e+00, 0.0000e+00, 1.0000e+00,\n",
       "        0.0000e+00, 0.0000e+00, 0.0000e+00, 0.0000e+00, 1.0000e+00]),\n",
       " array([0.2   , 0.2962, 0.3924, 0.4886, 0.5848, 0.681 , 0.7772, 0.8734,\n",
       "        0.9696, 1.0658, 1.162 , 1.2582, 1.3544, 1.4506, 1.5468, 1.643 ,\n",
       "        1.7392, 1.8354, 1.9316, 2.0278, 2.124 , 2.2202, 2.3164, 2.4126,\n",
       "        2.5088, 2.605 , 2.7012, 2.7974, 2.8936, 2.9898, 3.086 , 3.1822,\n",
       "        3.2784, 3.3746, 3.4708, 3.567 , 3.6632, 3.7594, 3.8556, 3.9518,\n",
       "        4.048 , 4.1442, 4.2404, 4.3366, 4.4328, 4.529 , 4.6252, 4.7214,\n",
       "        4.8176, 4.9138, 5.01  ]),\n",
       " <a list of 50 Patch objects>)"
      ]
     },
     "execution_count": 4,
     "metadata": {},
     "output_type": "execute_result"
    },
    {
     "data": {
      "image/png": "[encoded data removed]",
      "text/plain": [
       "<Figure size 432x288 with 1 Axes>"
      ]
     },
     "metadata": {
      "needs_background": "light"
     },
     "output_type": "display_data"
    }
   ],
   "source": [
    "plt.hist(x = diamonds['carat'], bins = 50)"
   ]
  },
  {
   "cell_type": "code",
   "execution_count": 5,
   "metadata": {},
   "outputs": [
    {
     "data": {
      "text/plain": [
       "(array([5.1666e+04, 2.2640e+03, 1.0000e+01]),\n",
       " array([0.2       , 1.80333333, 3.40666667, 5.01      ]),\n",
       " <a list of 3 Patch objects>)"
      ]
     },
     "execution_count": 5,
     "metadata": {},
     "output_type": "execute_result"
    },
    {
     "data": {
      "image/png": "[encoded data removed]",
      "text/plain": [
       "<Figure size 432x288 with 1 Axes>"
      ]
     },
     "metadata": {
      "needs_background": "light"
     },
     "output_type": "display_data"
    }
   ],
   "source": [
    "plt.hist(x = diamonds['carat'], bins = 3)"
   ]
  },
  {
   "cell_type": "markdown",
   "metadata": {},
   "source": [
    "*Nota: Como puedes comprobar, hay muy pocos diamantes en el dtaset que tengan más de 3 quilates.. Si filttramos previamente el dataset podemos obtener una mejor idea de la distribución de esta variable.*"
   ]
  },
  {
   "cell_type": "code",
   "execution_count": 6,
   "metadata": {},
   "outputs": [
    {
     "data": {
      "text/plain": [
       "(array([7.850e+02, 3.418e+03, 6.855e+03, 3.333e+03, 2.898e+03, 2.770e+03,\n",
       "        3.139e+03, 1.454e+03, 4.300e+02, 3.374e+03, 2.329e+03, 9.660e+02,\n",
       "        3.220e+02, 2.325e+03, 4.280e+02, 5.260e+03, 1.797e+03, 1.370e+03,\n",
       "        7.610e+02, 1.823e+03, 9.100e+02, 4.990e+02, 2.350e+02, 1.520e+02,\n",
       "        7.200e+01, 2.499e+03, 4.880e+02, 2.500e+02, 3.130e+02, 3.180e+02,\n",
       "        1.020e+02, 4.700e+01, 3.400e+01, 1.800e+01, 7.170e+02, 5.620e+02,\n",
       "        2.060e+02, 1.340e+02, 1.350e+02, 7.400e+01, 9.600e+01, 3.400e+01,\n",
       "        3.900e+01, 2.300e+01, 5.400e+01, 2.200e+01, 1.000e+01, 7.000e+00,\n",
       "        8.000e+00, 5.000e+00]),\n",
       " array([0.2  , 0.252, 0.304, 0.356, 0.408, 0.46 , 0.512, 0.564, 0.616,\n",
       "        0.668, 0.72 , 0.772, 0.824, 0.876, 0.928, 0.98 , 1.032, 1.084,\n",
       "        1.136, 1.188, 1.24 , 1.292, 1.344, 1.396, 1.448, 1.5  , 1.552,\n",
       "        1.604, 1.656, 1.708, 1.76 , 1.812, 1.864, 1.916, 1.968, 2.02 ,\n",
       "        2.072, 2.124, 2.176, 2.228, 2.28 , 2.332, 2.384, 2.436, 2.488,\n",
       "        2.54 , 2.592, 2.644, 2.696, 2.748, 2.8  ]),\n",
       " <a list of 50 Patch objects>)"
      ]
     },
     "execution_count": 6,
     "metadata": {},
     "output_type": "execute_result"
    },
    {
     "data": {
      "image/png": "[encoded data removed]",
      "text/plain": [
       "<Figure size 432x288 with 1 Axes>"
      ]
     },
     "metadata": {
      "needs_background": "light"
     },
     "output_type": "display_data"
    }
   ],
   "source": [
    "diamonds_filtered = diamonds[diamonds['carat'] < 3]\n",
    "plt.hist(x = diamonds_filtered['carat'], bins = 50)"
   ]
  },
  {
   "cell_type": "markdown",
   "metadata": {},
   "source": [
    "2. ScatterPlot"
   ]
  },
  {
   "cell_type": "markdown",
   "metadata": {
    "collapsed": true
   },
   "source": [
    "Este tipo de gráfica es muy utilizada ya que permite ver la relación entre dos variables. "
   ]
  },
  {
   "cell_type": "code",
   "execution_count": 7,
   "metadata": {},
   "outputs": [
    {
     "data": {
      "text/plain": [
       "<matplotlib.collections.PathCollection at 0x12428fd0>"
      ]
     },
     "execution_count": 7,
     "metadata": {},
     "output_type": "execute_result"
    },
    {
     "data": {
      "image/png": "[encoded data removed]",
      "text/plain": [
       "<Figure size 432x288 with 1 Axes>"
      ]
     },
     "metadata": {
      "needs_background": "light"
     },
     "output_type": "display_data"
    }
   ],
   "source": [
    "plt.scatter(diamonds['x'], diamonds['y'])"
   ]
  },
  {
   "cell_type": "markdown",
   "metadata": {},
   "source": [
    "*Nota: Las gráficas de scatter son muy útiles para observar la presencia de outliers (puntos que se alejan del grueso de los valores del dataset)*"
   ]
  },
  {
   "cell_type": "markdown",
   "metadata": {},
   "source": [
    "# **Uso de seaborn** <a class=\"anchor\" id=\"Uso_de_seaborn\"></a>"
   ]
  },
  {
   "cell_type": "markdown",
   "metadata": {},
   "source": [
    "Permite generar más variedad de tipos de gráficas y mejorar la estética"
   ]
  },
  {
   "cell_type": "code",
   "execution_count": 8,
   "metadata": {},
   "outputs": [],
   "source": [
    "sns.set_style(style='white')"
   ]
  },
  {
   "cell_type": "code",
   "execution_count": 9,
   "metadata": {},
   "outputs": [
    {
     "data": {
      "text/plain": [
       "<matplotlib.axes._subplots.AxesSubplot at 0x125417b0>"
      ]
     },
     "execution_count": 9,
     "metadata": {},
     "output_type": "execute_result"
    },
    {
     "data": {
      "image/png": "[encoded data removed]",
      "text/plain": [
       "<Figure size 432x288 with 1 Axes>"
      ]
     },
     "metadata": {},
     "output_type": "display_data"
    }
   ],
   "source": [
    "sns.histplot(x = 'carat', data = diamonds)"
   ]
  },
  {
   "cell_type": "code",
   "execution_count": 10,
   "metadata": {},
   "outputs": [
    {
     "data": {
      "text/plain": [
       "<matplotlib.axes._subplots.AxesSubplot at 0x1255afb0>"
      ]
     },
     "execution_count": 10,
     "metadata": {},
     "output_type": "execute_result"
    },
    {
     "data": {
      "image/png": "[encoded data removed]",
      "text/plain": [
       "<Figure size 432x288 with 1 Axes>"
      ]
     },
     "metadata": {},
     "output_type": "display_data"
    }
   ],
   "source": [
    "sns.histplot(x = 'carat', data = diamonds, bins = 50)"
   ]
  },
  {
   "cell_type": "markdown",
   "metadata": {},
   "source": [
    "*Nota: La estructura a la hora de realizar gráficas con seaborn es un poco diferente a matplotlib. Sin embargo, la estructura es la siguiente:*\n",
    "&nbsp;\n",
    "\n",
    "*1. Definir tipo de gráfica -> ej. sns.**histplot**(x = 'carat', data)*\n",
    "&nbsp;\n",
    "\n",
    "*2. Definir variables       -> ej. sns.histplot(**x = 'carat'**, data)*\n",
    "&nbsp;\n",
    "\n",
    "*3. Definir el dataset      -> ej. sns.histplot(x = 'carat', **data**)*"
   ]
  },
  {
   "cell_type": "markdown",
   "metadata": {},
   "source": [
    "**Ejemplo de seaborn para varias variables**"
   ]
  },
  {
   "cell_type": "code",
   "execution_count": 11,
   "metadata": {},
   "outputs": [
    {
     "data": {
      "text/plain": [
       "<matplotlib.axes._subplots.AxesSubplot at 0x12861cf0>"
      ]
     },
     "execution_count": 11,
     "metadata": {},
     "output_type": "execute_result"
    },
    {
     "data": {
      "image/png": "[encoded data removed]",
      "text/plain": [
       "<Figure size 432x288 with 1 Axes>"
      ]
     },
     "metadata": {},
     "output_type": "display_data"
    }
   ],
   "source": [
    "sns.scatterplot(x = 'x', y = 'y', data = diamonds)"
   ]
  },
  {
   "cell_type": "markdown",
   "metadata": {},
   "source": [
    "# Cómo editar una gráfica <a class=\"anchor\" id=\"Cómo_editar_una_gráfica\"></a>"
   ]
  },
  {
   "cell_type": "markdown",
   "metadata": {},
   "source": [
    "A continuación, vamos a pintar´un scatter plot pero vamos a cambiar los colores, añadir títulos, etc. Lo vamos a realizar usando matplotlib, pero te animo a que lo intentes también con seaborn (o que, incluso, investigues como combinar ambos paquetes)."
   ]
  },
  {
   "cell_type": "code",
   "execution_count": 12,
   "metadata": {},
   "outputs": [
    {
     "data": {
      "text/plain": [
       "Text(0, 0.5, 'Size y [mm]')"
      ]
     },
     "execution_count": 12,
     "metadata": {},
     "output_type": "execute_result"
    },
    {
     "data": {
      "image/png": "[encoded data removed]",
      "text/plain": [
       "<Figure size 432x288 with 1 Axes>"
      ]
     },
     "metadata": {},
     "output_type": "display_data"
    }
   ],
   "source": [
    "plt.scatter(diamonds['x'], diamonds['y'], color = 'red', alpha = 0.4, s = 15)\n",
    "plt.title('Ejemplo de gráfica')\n",
    "plt.xlabel('Size x [mm]')\n",
    "plt.ylabel('Size y [mm]')"
   ]
  },
  {
   "cell_type": "markdown",
   "metadata": {},
   "source": [
    "Los argumentos que he utilizado son los siguientes:\n",
    "&nbsp;\n",
    "\n",
    "1. **Color** -> Define el color de la gráfica\n",
    "2. **Alpha** -> Define la transparencia de los puntos\n",
    "3. **s** -> Define el tamaño de los puntos\n",
    "&nbsp;\n",
    "\n",
    "Hay muchos más parámetros que se pueden añadir, pero algo muy importante es que estos pueden variar de un tipo de gráfica a otra (por ejemplo, un histograma no tiene el argumento s definido ya que no hay puntos a los que editar el tamaño)\n",
    "&nbsp;\n",
    "\n",
    "Si tienes alguna duda consulta la documentación oficial de matplotlib donde viene todo muy bien descrito:\n",
    "&nbsp;\n",
    "\n",
    "https://matplotlib.org/contents.html\n"
   ]
  },
  {
   "cell_type": "markdown",
   "metadata": {},
   "source": [
    "# Tipos de gráficas más avanzadas  <a class=\"anchor\" id=\"Tipos_de_gráficas_más_avanzadas\"></a>"
   ]
  },
  {
   "cell_type": "markdown",
   "metadata": {},
   "source": [
    "## 1. Countplot <a class=\"anchor\" id=\"Countplot\"></a>"
   ]
  },
  {
   "cell_type": "markdown",
   "metadata": {},
   "source": [
    "De una forma muy sencilla permite visualizar cuantos elementos de cada variable hay en nuestro dataset"
   ]
  },
  {
   "cell_type": "code",
   "execution_count": 13,
   "metadata": {},
   "outputs": [
    {
     "data": {
      "text/plain": [
       "<matplotlib.axes._subplots.AxesSubplot at 0x12b3c670>"
      ]
     },
     "execution_count": 13,
     "metadata": {},
     "output_type": "execute_result"
    },
    {
     "data": {
      "image/png": "[encoded data removed]",
      "text/plain": [
       "<Figure size 432x288 with 1 Axes>"
      ]
     },
     "metadata": {},
     "output_type": "display_data"
    }
   ],
   "source": [
    "sns.countplot(x = 'cut', data = diamonds)"
   ]
  },
  {
   "cell_type": "markdown",
   "metadata": {},
   "source": [
    "## 2. Heatmap <a class=\"anchor\" id=\"Heatmap\"></a>"
   ]
  },
  {
   "cell_type": "markdown",
   "metadata": {},
   "source": [
    "Permite visualizar de una forma muy sencilla los valores de una matriz (por ejemplo, la correlación de varias variables entre si)"
   ]
  },
  {
   "cell_type": "code",
   "execution_count": 14,
   "metadata": {},
   "outputs": [
    {
     "data": {
      "text/plain": [
       "<matplotlib.axes._subplots.AxesSubplot at 0x12f47f50>"
      ]
     },
     "execution_count": 14,
     "metadata": {},
     "output_type": "execute_result"
    },
    {
     "data": {
      "image/png": "[encoded data removed]",
      "text/plain": [
       "<Figure size 432x288 with 2 Axes>"
      ]
     },
     "metadata": {},
     "output_type": "display_data"
    }
   ],
   "source": [
    "sns.heatmap(diamonds[['x', 'y', 'z', 'price', 'carat']].corr(), annot = True)"
   ]
  },
  {
   "cell_type": "markdown",
   "metadata": {},
   "source": [
    "*Nota: el argumento annot = True añade de forma numérica la correlación de entre dos variables. Esto es muy útil para que la gráfica sea aún más visual.*"
   ]
  },
  {
   "cell_type": "markdown",
   "metadata": {},
   "source": [
    "## 3. Parámetro *Hue* en Seaborn <a class=\"anchor\" id=\"Parámetro_Hue_en_seaborn\"></a>"
   ]
  },
  {
   "cell_type": "markdown",
   "metadata": {},
   "source": [
    "Este parámetro es muy potente ya que, de una forma muy sencilla, podemos realizar en una misma gráfica la comparación de las variables categóricas suministradas. \n",
    "&nbsp;\n",
    "\n",
    "A continuación te muestro un ejemplo de un histograma donde se puede comprobar la distribución del precio de los diamantes según su tipo de corte."
   ]
  },
  {
   "cell_type": "code",
   "execution_count": 15,
   "metadata": {},
   "outputs": [
    {
     "data": {
      "text/plain": [
       "<matplotlib.axes._subplots.AxesSubplot at 0x131bdfb0>"
      ]
     },
     "execution_count": 15,
     "metadata": {},
     "output_type": "execute_result"
    },
    {
     "data": {
      "image/png": "[encoded data removed]",
      "text/plain": [
       "<Figure size 432x288 with 1 Axes>"
      ]
     },
     "metadata": {},
     "output_type": "display_data"
    }
   ],
   "source": [
    "sns.histplot(x = 'price', hue = 'cut', data = diamonds)"
   ]
  },
  {
   "cell_type": "markdown",
   "metadata": {},
   "source": [
    "Por último, y como respuesta a la pregunta que te propuse al principio de la sección, la distribución del precio de los diamantes tiene un fenómeno muy curioso, y es que hay un intervalo de precios donde no hay ningún diamante. \n",
    "&nbsp;\n",
    "\n",
    "Esto lo puedes comprobar utilizando un número de bins muy elevado y, cuando intuyas este efecto, puedes filtrar tu dataframe para comprobar esta hipótesis. \n"
   ]
  },
  {
   "cell_type": "code",
   "execution_count": 17,
   "metadata": {},
   "outputs": [
    {
     "data": {
      "text/plain": [
       "<matplotlib.axes._subplots.AxesSubplot at 0x14854970>"
      ]
     },
     "execution_count": 17,
     "metadata": {},
     "output_type": "execute_result"
    },
    {
     "data": {
      "image/png": "[encoded data removed]",
      "text/plain": [
       "<Figure size 432x288 with 1 Axes>"
      ]
     },
     "metadata": {},
     "output_type": "display_data"
    }
   ],
   "source": [
    "sns.histplot(x = 'price', data = diamonds.loc[(diamonds['price'] > 1000) & \n",
    "                                              (diamonds['price'] < 2000), :], bins = 100)"
   ]
  }
 ],
 "metadata": {
  "kernelspec": {
   "display_name": "Python 3",
   "language": "python",
   "name": "python3"
  },
  "language_info": {
   "codemirror_mode": {
    "name": "ipython",
    "version": 3
   },
   "file_extension": ".py",
   "mimetype": "text/x-python",
   "name": "python",
   "nbconvert_exporter": "python",
   "pygments_lexer": "ipython3",
   "version": "3.7.3"
  }
 },
 "nbformat": 4,
 "nbformat_minor": 2
}
