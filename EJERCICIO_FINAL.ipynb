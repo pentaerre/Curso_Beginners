{
 "cells": [
  {
   "cell_type": "markdown",
   "metadata": {},
   "source": [
    "El ejercicio es el siguiente. Para evitar dificultad y respuestas ambiguas se va a guiar el ejercicio con que se espera.\n",
    "Además habrá pistas de por donde se espera resolver la actividad.\n",
    "\n",
    "El data set son dos csv con información y datos sobre gente que muere por infarto en ciudad y en entornos rurales. Vamos a estudiar estos datos y a intentar entender que está sucediendo.\n",
    "\n",
    "python OS:\n",
    "\n",
    "1. Leer todos los archivos csv de la carpeta\n",
    "\n",
    "Data health:\n",
    "\n",
    "2. Unir los csv\n",
    "3. Hay valores vacios?. Identificarlos como N/A\n",
    "4. Hay personas que se han metido en mas de una ocasión por error, limpiar el dataset\n",
    "5. Instrucción para observar los datos\n",
    "\n",
    "Data generation\n",
    "\n",
    "6. Se intenta crear una \"edad real\" la cual se sabe que: edad_real = edad*1.1bmi + hypertension*3. Para ello hay que crear una nueva columna llamada edad real y aplicar esta ecuacion\n",
    "\n",
    "Representacion\n",
    "\n",
    "7. Grafico circular de infarto entre hombres y mujeres\n",
    "8. Grafico de barras de infarto por ciudad/pueblo\n",
    "9. Filtrar solo gente de mas de 55 años y guardar en CSV, HDF5, EXCEL y database\n"
   ]
  },
  {
   "cell_type": "code",
   "execution_count": null,
   "metadata": {},
   "outputs": [],
   "source": [
    "import pandas as pd\n"
   ]
  }
 ],
 "metadata": {
  "kernelspec": {
   "display_name": "Python 3",
   "language": "python",
   "name": "python3"
  },
  "language_info": {
   "codemirror_mode": {
    "name": "ipython",
    "version": 3
   },
   "file_extension": ".py",
   "mimetype": "text/x-python",
   "name": "python",
   "nbconvert_exporter": "python",
   "pygments_lexer": "ipython3",
   "version": "3.7.3"
  }
 },
 "nbformat": 4,
 "nbformat_minor": 2
}
