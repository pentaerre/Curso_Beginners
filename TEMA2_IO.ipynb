{
 "cells": [
  {
   "cell_type": "markdown",
   "metadata": {},
   "source": [
    "Muchas veces cuando pasamos de \"aprender\" python a traves de cursos a querer utilizarlo en la vida real hay serias barreras de entrada. Una muy evidente es que la mayoria de los ejemplos de los cursos y concretamente de este curso contienen unos pocos datos que introduces manualmente. Pero cuando quieres usarlo profesionalmente, la pregunta es siempre la misma, ¿como hago para darle a python muchos datos y no tener que introducirlos a mano?.\n",
    "Por suerte somos conscientes de ello y la filosofía de y se irá desarrollando extensivamente como introducir datos ya existenteS en python. En general en este módulo del curso se enseñará a cargar archivos .txt, no es sencillo hacerlo a alto nivel y en general no os desanimeis porque mas adelante veremos metodos mucho mas eficientes y eficaces pero estamos obligados a enseñar esta forma.\n"
   ]
  },
  {
   "cell_type": "code",
   "execution_count": 18,
   "metadata": {},
   "outputs": [
    {
     "name": "stdout",
     "output_type": "stream",
     "text": [
      "Nombre del archivo:  C:\\Users\\U40687\\Downloads\\test.txt\n",
      "Esta cerrado el txt o no :  False\n",
      "En que modo esta abierto:  r+\n"
     ]
    }
   ],
   "source": [
    "# en path se pone la ruta del txt \n",
    "path = r\"C:\\Users\\U40687\\Downloads\\test.txt\"\n",
    "# Ahora vamos a abrir el documento, antes de seguir es importante comentar el segundo argumento del metodo:\n",
    "# Hay distintas opciones de como abrir el archivo:\n",
    "# r: Abre un archivo solo como lectura, r+: modo lectura y escritura, \n",
    "# hay un largo etcetera de opciones pero es para hacer una idea\n",
    "fo = open(path, \"r+\")\n",
    "#Algunos atributos de fo son:\n",
    "#Aclaración fo no es más es el objeto que contiene el archivo de texto que hemos abierto\n",
    "print (\"Nombre del archivo: \", fo.name)\n",
    "print (\"Esta cerrado el txt o no : \", fo.closed)\n",
    "print (\"En que modo esta abierto: \", fo.mode)"
   ]
  },
  {
   "cell_type": "code",
   "execution_count": 19,
   "metadata": {},
   "outputs": [
    {
     "name": "stdout",
     "output_type": "stream",
     "text": [
      "Los 50 primeros caracteres son:  Inertia is the resistance of any physical object t\n"
     ]
    }
   ],
   "source": [
    "#leemos los 50 primeros caracteres para ello usaremos el metodo \"read\" y la posición del string en concreto\n",
    "str = fo.read(50)\n",
    "print (\"Los 50 primeros caracteres son: \", str)\n",
    "\n"
   ]
  },
  {
   "cell_type": "markdown",
   "metadata": {},
   "source": [
    "Aqui entra un concepto interesante que es donde del documento abierto se encuentra nuestra referencia. Actualmente nuestro cursor se encuentra en el caracter 50 eso quiere decir que si volvemos a usar read,va a empezar a contar desde donde esta el cursor. No es algo que se utilice mucho pero es importante comrenderlo porque sucede con otras librerias de python."
   ]
  },
  {
   "cell_type": "code",
   "execution_count": 20,
   "metadata": {},
   "outputs": [
    {
     "name": "stdout",
     "output_type": "stream",
     "text": [
      "Los 10 siguientes caracteres son:  o any chan\n",
      "Current file position :  60\n",
      "Again read String is :  Inertia is\n"
     ]
    }
   ],
   "source": [
    "# para ello a leer los 10 siguientes caracteres\n",
    "str = fo.read(10)\n",
    "print (\"Los 10 siguientes caracteres son: \", str)\n",
    "# El metodo tell chequea donde esta el cursor actualmente.\n",
    "# Como lo hemos movido 50 posiciones en la primera instrucción y ahora 10, deberia dee star en 60\n",
    "position = fo.tell()\n",
    "print (\"Posicion del cursor : \", position)\n",
    "\n",
    "# Con el metodo seek podemos reposicionar el cursor\n",
    "position = fo.seek(0, 0);\n",
    "str = fo.read(10)\n",
    "print (\"Vamos a leer los 10 primeros caracteres de nuevo : \", str)\n",
    "# cerrar el archivo\n",
    "fo.close()"
   ]
  },
  {
   "cell_type": "markdown",
   "metadata": {},
   "source": [
    "Por supuesto se pueden editar archivos de texto y guardarlos. No vamos a verlos aqui pero la operativa es parecida.\n",
    "Sabed que existen librerias para tratamiento de strings que funcionan bastante mejor y son mas avanzadas como REGEX:\n",
    "\n",
    "https://realpython.com/regex-python/"
   ]
  },
  {
   "cell_type": "markdown",
   "metadata": {},
   "source": [
    "En general para aquellos que quieran automatizar procesos es importante saber como interactuar con python y tu ordenador. Este modulo es el modulo \"os\".\n",
    "\n",
    "Como estamos en jupiter onenote esta parte es un poco obstusa ya que tendreis que poner rutas linkadas a vuestro ordenador cuando usemos rutas vereis que apuntan a carpetas en mi ordenador, tendreis que cambiarlas al vuestro si quereis seguir el ejemplo\n"
   ]
  },
  {
   "cell_type": "code",
   "execution_count": null,
   "metadata": {},
   "outputs": [],
   "source": [
    "# vamos a renombrar un archivo\n",
    "\n",
    "import os\n",
    "\n",
    "# Rename a file from test1.txt to test2.txt\n",
    "os.rename( \"test1.txt\", \"test2.txt\" )\n",
    "# Delete file test2.txt\n",
    "os.remove(\"text2.txt\")\n",
    "#!/usr/bin/python\n",
    "# Create a directory \"test\"\n",
    "os.mkdir(\"test\")\n",
    "# This would give location of the current directory\n",
    "os.getcwd()\n",
    "os.rmdir('dirname')"
   ]
  }
 ],
 "metadata": {
  "kernelspec": {
   "display_name": "Python 3",
   "language": "python",
   "name": "python3"
  },
  "language_info": {
   "codemirror_mode": {
    "name": "ipython",
    "version": 3
   },
   "file_extension": ".py",
   "mimetype": "text/x-python",
   "name": "python",
   "nbconvert_exporter": "python",
   "pygments_lexer": "ipython3",
   "version": "3.7.3"
  }
 },
 "nbformat": 4,
 "nbformat_minor": 2
}
