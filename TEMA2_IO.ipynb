{
  "nbformat": 4,
  "nbformat_minor": 0,
  "metadata": {
    "kernelspec": {
      "display_name": "Python 3",
      "language": "python",
      "name": "python3"
    },
    "language_info": {
      "codemirror_mode": {
        "name": "ipython",
        "version": 3
      },
      "file_extension": ".py",
      "mimetype": "text/x-python",
      "name": "python",
      "nbconvert_exporter": "python",
      "pygments_lexer": "ipython3",
      "version": "3.7.3"
    },
    "colab": {
      "name": "TEMA2_IO.ipynb",
      "provenance": []
    }
  },
  "cells": [
    {
      "cell_type": "markdown",
      "metadata": {
        "id": "Nf4BYxl1G-pq"
      },
      "source": [
        "#2.1 Introducción a I/0\r\n",
        "\r\n",
        "\r\n",
        "> 2.1.1 Libreria OPEN\r\n",
        "\r\n",
        "\r\n",
        "> 2.1.2 Libreria OS\r\n",
        "\r\n",
        "\r\n",
        "\r\n",
        "\r\n",
        "\r\n"
      ]
    },
    {
      "cell_type": "markdown",
      "metadata": {
        "id": "LWEOaJSwGqjF"
      },
      "source": [
        "##2.1 Introducción\n",
        "\n",
        "Muchas veces cuando pasamos de \"aprender\" python a traves de cursos a querer utilizarlo en la vida real hay serias barreras de entrada. Una muy evidente es que la mayoria de los ejemplos de los cursos y concretamente de este curso contienen unos pocos datos que introduces manualmente. Pero cuando quieres usarlo profesionalmente, la pregunta es siempre la misma, ¿como hago para darle a python muchos datos y no tener que introducirlos a mano?.\n",
        "Por suerte somos conscientes de ello y la filosofía de y se irá desarrollando extensivamente como introducir datos ya existenteS en python. En general en este módulo del curso se enseñará a cargar archivos .txt, no es sencillo hacerlo a alto nivel y en general no os desanimeis porque mas adelante veremos metodos mucho mas eficientes y eficaces pero estamos obligados a enseñar esta forma.\n"
      ]
    },
    {
      "cell_type": "markdown",
      "metadata": {
        "id": "O2g22wQAKLix"
      },
      "source": [
        "##2.1.1 Función OPEN.\r\n",
        "\r\n",
        "Es metodo que esta incluido en python y no hace falta importar, solo es necesario llamarlo: x = open (\"ruta al archivo en cuestion\",\"modo de escritura\")\r\n",
        "Es importante tener en cuenta que cuando abres un archivo el modo de escritura determinará que puedes o que no puedes hacer. Por ejemplo:\r\n",
        "\r\n",
        "\r\n",
        "*   r: Abrir fichero para lectura. \r\n",
        "*   w: Trunca a cero la longitud o crea un fichero de texto para escritura.\r\n",
        "* a: Abrir fichero para lectura. Se creará el fichero si no exsite\r\n",
        "\r\n",
        "Hay muchas mas formas pero es para hacer una idea, para mas información chequear aqui:\r\n",
        "\r\n",
        "https://programacion.net/articulo/escribir_y_leer_ficheros_en_python_1446 \r\n"
      ]
    },
    {
      "cell_type": "code",
      "metadata": {
        "id": "q23naCnNGqjM",
        "outputId": "624e74dc-2aac-42b6-86d4-d3cac45ad340"
      },
      "source": [
        "# en path se pone la ruta del txt \n",
        "path = r\"C:\\Users\\U40687\\Downloads\\test.txt\"\n",
        "# Ahora vamos a abrir el documento, antes de seguir es importante comentar el segundo argumento del metodo:\n",
        "fo = open(path, \"r+\")\n",
        "#Algunos atributos de fo son:\n",
        "#Aclaración fo no es más es el objeto que contiene el archivo de texto que hemos abierto\n",
        "print (\"Nombre del archivo: \", fo.name)\n",
        "print (\"Esta cerrado el txt o no : \", fo.closed)\n",
        "print (\"En que modo esta abierto: \", fo.mode)"
      ],
      "execution_count": null,
      "outputs": [
        {
          "output_type": "stream",
          "text": [
            "Nombre del archivo:  C:\\Users\\U40687\\Downloads\\test.txt\n",
            "Esta cerrado el txt o no :  False\n",
            "En que modo esta abierto:  r+\n"
          ],
          "name": "stdout"
        }
      ]
    },
    {
      "cell_type": "code",
      "metadata": {
        "id": "d4jAQANCGqjO",
        "outputId": "7b0c6f50-2eef-4a15-bd00-cfa988202d7d"
      },
      "source": [
        "#leemos los 50 primeros caracteres para ello usaremos el metodo \"read\" y la posición del string en concreto\n",
        "str = fo.read(50)\n",
        "print (\"Los 50 primeros caracteres son: \", str)\n",
        "\n"
      ],
      "execution_count": null,
      "outputs": [
        {
          "output_type": "stream",
          "text": [
            "Los 50 primeros caracteres son:  Inertia is the resistance of any physical object t\n"
          ],
          "name": "stdout"
        }
      ]
    },
    {
      "cell_type": "markdown",
      "metadata": {
        "id": "dCL7Vou-GqjP"
      },
      "source": [
        "Aqui entra un concepto interesante que es donde del documento abierto se encuentra nuestra referencia. Actualmente nuestro cursor se encuentra en el caracter 50 eso quiere decir que si volvemos a usar read,va a empezar a contar desde donde esta el cursor. No es algo que se utilice mucho pero es importante comrenderlo porque sucede con otras librerias de python."
      ]
    },
    {
      "cell_type": "code",
      "metadata": {
        "id": "hJiV_U0RGqjP",
        "outputId": "955c9f26-a5ae-4d1f-b090-70fe62b76b7f"
      },
      "source": [
        "# para ello a leer los 10 siguientes caracteres\n",
        "str = fo.read(10)\n",
        "print (\"Los 10 siguientes caracteres son: \", str)\n",
        "# El metodo tell chequea donde esta el cursor actualmente.\n",
        "# Como lo hemos movido 50 posiciones en la primera instrucción y ahora 10, deberia dee star en 60\n",
        "position = fo.tell()\n",
        "print (\"Posicion del cursor : \", position)\n",
        "\n",
        "# Con el metodo seek podemos reposicionar el cursor\n",
        "position = fo.seek(0, 0);\n",
        "str = fo.read(10)\n",
        "print (\"Vamos a leer los 10 primeros caracteres de nuevo : \", str)\n",
        "# cerrar el archivo\n",
        "fo.close()"
      ],
      "execution_count": null,
      "outputs": [
        {
          "output_type": "stream",
          "text": [
            "Los 10 siguientes caracteres son:  o any chan\n",
            "Current file position :  60\n",
            "Again read String is :  Inertia is\n"
          ],
          "name": "stdout"
        }
      ]
    },
    {
      "cell_type": "markdown",
      "metadata": {
        "id": "Wjb2AUjPGqjQ"
      },
      "source": [
        "Por supuesto se pueden editar archivos de texto y guardarlos. No vamos a verlos aqui pero la operativa es parecida.\n",
        "Sabed que existen librerias para tratamiento de strings que funcionan bastante mejor y son mas avanzadas como REGEX:\n",
        "\n",
        "https://realpython.com/regex-python/"
      ]
    },
    {
      "cell_type": "markdown",
      "metadata": {
        "id": "sXaqt3ouGqjQ"
      },
      "source": [
        "##2.1.2 Librería OS\n",
        "\n",
        "En general para aquellos que quieran automatizar procesos es importante saber como interactuar con python y tu ordenador. Este modulo es el modulo \"os\".\n",
        "\n",
        "Como estamos en jupiter onenote esta parte es un poco obstusa ya que tendreis que poner rutas linkadas a vuestro ordenador cuando usemos rutas vereis que apuntan a carpetas en mi ordenador, tendreis que cambiarlas al vuestro si quereis seguir el ejemplo.\n"
      ]
    },
    {
      "cell_type": "code",
      "metadata": {
        "id": "b87fcaQWGqjR"
      },
      "source": [
        "# Vamos a ver que acciones podemos hacer con un archivo:\n",
        "# Importamos la libreria\n",
        "import os\n",
        "\n",
        "# Renombrar un archivo \n",
        "os.rename( \"C:\\Users\\U40687\\Downloads\\test.txt\", \"C:\\Users\\U40687\\Downloads\\test2.txt\" )\n",
        "# Eliminarlo test2.txt\n",
        "os.remove(\"C:\\Users\\U40687\\Downloads\\text2.txt\")\n",
        "# Creamos un directorio \"test\"\n",
        "os.mkdir(\"C:\\Users\\U40687\\Downloads\\test_folder\")\n",
        "# Vemos en que directorio nos encontramos ahora mismo \n",
        "os.getcwd()\n",
        "# Eliminar un directorio\n",
        "os.rmdir('C:\\Users\\U40687\\Downloads\\test_folder')\n",
        "# Para cambiar el directorio de trabajo de referencia usamos\n",
        "os.chdir(\"C:\\MyPythonProject\")\n",
        "# List dir es un metodo muy intersante de os que permite sacar la estructura de directorios que hay en el directorio de trabajo\n",
        "os.listdir()"
      ],
      "execution_count": null,
      "outputs": []
    },
    {
      "cell_type": "markdown",
      "metadata": {
        "id": "D8npi3xmRcu3"
      },
      "source": [
        "La libreria OS tiene muchos mas metodos que ayudan a navegar por procesos y carpetas. Pero en general esto es una pequeña vision de lo que se puede hacer.\r\n",
        "Con estas herramientas se puede pensar en hacer una lista de carpetas sobre las que hacer distintas acciones que se irán impartiendo a lo largo del curso."
      ]
    }
  ]
}